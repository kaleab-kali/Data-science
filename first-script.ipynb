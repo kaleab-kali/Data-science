{
  "nbformat": 4,
  "nbformat_minor": 0,
  "metadata": {
    "colab": {
      "provenance": [],
      "authorship_tag": "ABX9TyMjf+OJ84ZZSy+GqYzy3fee",
      "include_colab_link": true
    },
    "kernelspec": {
      "name": "python3",
      "display_name": "Python 3"
    },
    "language_info": {
      "name": "python"
    }
  },
  "cells": [
    {
      "cell_type": "markdown",
      "metadata": {
        "id": "view-in-github",
        "colab_type": "text"
      },
      "source": [
        "<a href=\"https://colab.research.google.com/github/kaleab-kali/Data-science/blob/main/first-script.ipynb\" target=\"_parent\"><img src=\"https://colab.research.google.com/assets/colab-badge.svg\" alt=\"Open In Colab\"/></a>"
      ]
    },
    {
      "cell_type": "code",
      "execution_count": null,
      "metadata": {
        "id": "BHykWd1tfrvq"
      },
      "outputs": [],
      "source": [
        "!pip install --upgrade gspread"
      ]
    },
    {
      "cell_type": "code",
      "source": [
        "from google.colab import auth\n",
        "auth.authenticate_user()\n",
        "\n",
        "import calendar\n",
        "import itertools\n",
        "import pandas as pd\n",
        "import time\n",
        "\n",
        "import gspread\n",
        "from google.auth import default\n",
        "creds, _ = default()\n",
        "\n",
        "gc = gspread.authorize(creds)"
      ],
      "metadata": {
        "id": "wDYFSrJUf1hI"
      },
      "execution_count": 2,
      "outputs": []
    },
    {
      "cell_type": "code",
      "source": [
        "# wb = gc.open_by_url('https://docs.google.com/spreadsheets/d/1F8ZfIxbkEoBBQz1_JQdyc0SiKgl-ev26Vr8KSi-cgtk/edit#gid=676294482')\n",
        "wb = gc.open_by_key('1Ib9TalM2rC3YY_h3ZLYxsExNNkx4qqxjHADGjd56irw')\n",
        "ws = wb.worksheet(\"Sheet1\")\n",
        "folder = \"16ddvQFeHiV7E-IimhZNgdWL_aUrbWNYm\""
      ],
      "metadata": {
        "id": "8Bq4hODGf_sG"
      },
      "execution_count": 3,
      "outputs": []
    },
    {
      "cell_type": "code",
      "source": [
        "# get_all_values gives a list of rows.\n",
        "rows = ws.get_all_values()\n",
        "df = pd.DataFrame.from_records(rows[2:],columns=rows[1])"
      ],
      "metadata": {
        "id": "CV-ITX6q0Vk5"
      },
      "execution_count": 4,
      "outputs": []
    },
    {
      "cell_type": "code",
      "source": [
        "df"
      ],
      "metadata": {
        "id": "DuLx0c58Xg-f"
      },
      "execution_count": null,
      "outputs": []
    },
    {
      "cell_type": "code",
      "source": [
        "monthslist = df[\"Month\"]\n",
        "uniquemonth = monthslist.drop_duplicates().tolist()\n",
        "uniqueyear = []\n",
        "\n",
        "monthName = []\n",
        "sumList = []\n",
        "\n",
        "for months in uniquemonth:\n",
        "  monthName.append(calendar.month_name[int(months)])\n",
        "\n",
        "def createSumSheet(ss):\n",
        "  sumSheet = ss.add_worksheet('Summery',rows=80,cols=10)\n",
        "  sumSheet.update('A1:B1',[['Year','Total Rainfall']])\n",
        "  sum_list = sumSheet.range('B2:B35')\n",
        "  print(sumList)\n",
        "  for i,val in enumerate(sumList):\n",
        "    sum_list[i].value = val\n",
        "  sumSheet.update_cells(sum_list,value_input_option=\"USER_ENTERED\")\n",
        "  sumList.clear()\n",
        "\n",
        "  cell_list = sumSheet.range('A2:A35')\n",
        "  # time.sleep(0.5)\n",
        "  for i,val in enumerate(uniqueyear):\n",
        "    cell_list[i].value = val\n",
        "  sumSheet.update_cells(cell_list,value_input_option=\"USER_ENTERED\")\n",
        "\n",
        "  sumSheet.update('A34:B34',[['SUM','=SUM(B2:B32)']], raw=False)\n",
        "  sumSheet.format('A34', {\"horizontalAlignment\": \"RIGHT\"})\n",
        "\n",
        "\n",
        "def createWorkSheet(ss,nist,shname):\n",
        "  wsheet = ss.add_worksheet(shname,rows=80,cols=7)\n",
        "  wsheet.update(\"A1\",nist,value_input_option=\"USER_ENTERED\")\n",
        "  wsheet.update('C33:D33',[['SUM','=SUM(D2:D32)']],raw=False)\n",
        "  wsheet.format('C33', {\"horizontalAlignment\": \"RIGHT\"})\n",
        "  sumValue = wsheet.acell('D33').value\n",
        "  sumList.append(sumValue)\n",
        "\n",
        "def createNewBook(months,mname):\n",
        "  ndf = df[df[\"Month\"] == months]\n",
        "  nlist = [ndf.columns.tolist()] + ndf.to_numpy().tolist()\n",
        "  ss = gc.create(mname,folder)\n",
        "  nws = ss.sheet1\n",
        "  nws.update(\"A1\",nlist,value_input_option=\"USER_ENTERED\")\n",
        "\n",
        "  yearslist = ndf[\"Year\"]\n",
        "  global uniqueyear\n",
        "  uniqueyear = yearslist.drop_duplicates().tolist()\n",
        "\n",
        "  for yrs in uniqueyear:\n",
        "    ydf = ndf[ndf[\"Year\"] == yrs]\n",
        "    ylist = [ydf.columns.tolist()] + ydf.to_numpy().tolist()\n",
        "    time.sleep(0.8)\n",
        "    createWorkSheet(ss,ylist,yrs)\n",
        "  # create summery sheet\n",
        "  createSumSheet(ss)\n",
        "  \n",
        "  \n",
        "for (months,monthname) in zip(uniquemonth,monthName):\n",
        "  createNewBook(months,monthname)"
      ],
      "metadata": {
        "colab": {
          "base_uri": "https://localhost:8080/"
        },
        "id": "mzIZAEb8r9L2",
        "outputId": "b8e08750-8326-4c89-a9ca-e76fdbd5cad8"
      },
      "execution_count": null,
      "outputs": [
        {
          "output_type": "stream",
          "name": "stdout",
          "text": [
            "['129.6', '81.7', '207.5', '113.7', '202.5', '189.2', '108.3', '144.3', '94.6', '77.4', '91', '86.3', '80.7', '162.8', '123.7', '121.1', '99.6', '90.3', '107.9', '109', '106.7', '95.5', '144.5', '93.6', '98.6', '123.4', '208.4', '80.8']\n",
            "['64.3', '40.6', '136.7', '58.2', '146.1', '87.2', '55.1', '71.4', '51.7', '39.5', '46.1', '43.4', '39.8', '109.8', '69.6', '62', '49.7', '44.9', '55', '62', '59.2', '73.6', '83.3', '129.2', '60.4', '72.6', '150.8', '44.9']\n",
            "['39.5', '24.8', '127', '37.1', '108.5', '53.6', '32.4', '48.8', '33.9', '32.2', '26.9', '31.5', '24.3', '78.8', '40.6', '41.8', '30.4', '36', '32.3', '52.5', '134.8', '65.8', '59.7', '98.7', '41.9', '78.3', '118.1', '35.1']\n",
            "['20.6', '12.9', '117.1', '68.7', '92.4', '27.9', '24.9', '35.3', '19.2', '16.8', '14.2', '19.2', '14.1', '45.6', '47', '25.6', '17.7', '26.2', '16.7', '28.4', '97.8', '34.4', '31.2', '54.6', '26.4', '58.9', '75.3', '34']\n",
            "['40.6', '19', '761.1', '353.5', '586.6', '17.5', '30.2', '24.7', '11.3', '9.6', '8.5', '32.3', '32.8', '35', '331', '14.6', '322.7', '334.4', '22.6', '28.7', '864.2', '140.2', '98.2', '223.3', '41', '88', '80.6', '125.1']\n"
          ]
        }
      ]
    }
  ]
}